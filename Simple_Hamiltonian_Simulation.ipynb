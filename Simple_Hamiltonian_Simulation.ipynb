{
  "nbformat": 4,
  "nbformat_minor": 0,
  "metadata": {
    "colab": {
      "provenance": []
    },
    "kernelspec": {
      "name": "python3",
      "display_name": "Python 3"
    },
    "language_info": {
      "name": "python"
    }
  },
  "cells": [
    {
      "cell_type": "markdown",
      "source": [
        "# Exact Simulation of the Hamiltonian"
      ],
      "metadata": {
        "id": "uwIVSaS7rP6a"
      }
    },
    {
      "cell_type": "markdown",
      "source": [
        "Let me consider the following Hamiltonian\n",
        "$$\\mathcal{H} = \\omega (\\sigma_x \\otimes \\sigma_z \\otimes \\sigma_y \\otimes \\sigma_x)$$\n",
        "where the Pauli matrices $𝜎_𝑥$, and $𝜎_𝑦$ can be expressed in terms of\n",
        "$𝜎_𝑧$ using the following identities:\n",
        "$$\\sigma_x = H \\sigma_z H, \\qquad \\sigma_y = SH \\sigma_z HS^†$$\n",
        "\n",
        "and the gates $𝐻$ (Hadamard) and $𝑆$ are given by:\n",
        "$$H = \\dfrac{1}{\\sqrt{2}}\n",
        "\\begin{pmatrix}\n",
        "1 & 1 \\\\\n",
        "1 & -1 \\\\\n",
        "\\end{pmatrix}\\qquad \\text{and}\\qquad\n",
        "S = \\begin{pmatrix}\n",
        "1 & 0 \\\\\n",
        "0 & i \\\\\n",
        "\\end{pmatrix}$$\n",
        "thus\n",
        "\\begin{eqnarray}\n",
        "\\mathcal{H} &=& \\omega (\\sigma_x \\otimes \\sigma_z \\otimes \\sigma_y \\otimes \\sigma_x) \\\\\n",
        " &=& \\omega (H\\otimes I \\otimes SH \\otimes H )(\\sigma_z \\otimes \\sigma_z \\otimes \\sigma_z \\otimes \\sigma_z)(H\\otimes I \\otimes HS^\\dagger \\otimes H )\n",
        "\\end{eqnarray}\n"
      ],
      "metadata": {
        "id": "FIRyR1gjZBP4"
      }
    },
    {
      "cell_type": "markdown",
      "source": [
        "Regarding this fact that $H$ and $S$ are unitary gate we can write\n",
        "\\begin{eqnarray}\n",
        "U &=& \\text{e}^{-i\\mathcal{H}t} \\\\\n",
        " &=&  (H\\otimes I \\otimes SH \\otimes H )\\text{e}^{-i\\omega(\\sigma_z \\otimes \\sigma_z \\otimes \\sigma_z \\otimes \\sigma_z)t}(H\\otimes I \\otimes HS^\\dagger \\otimes H )\n",
        "\\end{eqnarray}\n"
      ],
      "metadata": {
        "id": "Q-e7pqFafOJs"
      }
    },
    {
      "cell_type": "markdown",
      "source": [
        "the $\\text{e}^{-i\\omega(\\sigma_z \\otimes \\sigma_z \\otimes \\sigma_z \\otimes \\sigma_z)t}$ is a famous form of quantum operator that can be expressed just according to the CNOT and rotation $z$ gates. For more details you can see [this reference](https://docs.quantum.ibm.com/api/qiskit/qiskit.circuit.library.RZZGate)"
      ],
      "metadata": {
        "id": "nJPh2DIewNqN"
      }
    },
    {
      "cell_type": "markdown",
      "source": [
        "In the following piece of codes I will try to simulate this Hamiltonian by using qiskit package"
      ],
      "metadata": {
        "id": "KYUt06qPrbnR"
      }
    },
    {
      "cell_type": "markdown",
      "source": [
        "# Installing the qiskit and importing the libraries"
      ],
      "metadata": {
        "id": "uuXYy1jPrbqE"
      }
    },
    {
      "cell_type": "code",
      "execution_count": null,
      "metadata": {
        "id": "SKHWYfmDY_rE"
      },
      "outputs": [],
      "source": [
        "!pip install qiskit\n",
        "!pip install qiskit_aer\n",
        "!pip install pylatexenc"
      ]
    },
    {
      "cell_type": "code",
      "source": [
        "# Importing the necessary libraries\n",
        "import numpy as np\n",
        "import matplotlib.pyplot as plt\n",
        "from scipy.linalg import expm\n",
        "\n",
        "import math\n",
        "from math import pi,comb, floor\n",
        "\n",
        "# Importing standard Qiskit libraries\n",
        "from qiskit import *\n",
        "from qiskit.quantum_info import Statevector, Operator\n",
        "from qiskit.circuit import  Parameter\n",
        "from qiskit.visualization import *"
      ],
      "metadata": {
        "id": "dTftSdA8ZBMD"
      },
      "execution_count": null,
      "outputs": []
    },
    {
      "cell_type": "markdown",
      "source": [
        "## Function for plotting quantum circuit"
      ],
      "metadata": {
        "id": "ycaBIlTLc9Hp"
      }
    },
    {
      "cell_type": "code",
      "source": [
        "def qplot(x):\n",
        "  return x.draw('mpl', initial_state = True, scale = 0.8, fold = False)"
      ],
      "metadata": {
        "id": "1IldnhXHc9Rr"
      },
      "execution_count": null,
      "outputs": []
    },
    {
      "cell_type": "markdown",
      "source": [
        "# Function for doing tensor product"
      ],
      "metadata": {
        "id": "1JIzOyPNc-EW"
      }
    },
    {
      "cell_type": "code",
      "source": [
        "def f(x,y):\n",
        "  return np.kron(x,y)"
      ],
      "metadata": {
        "id": "0LFb8BTOc-OK"
      },
      "execution_count": null,
      "outputs": []
    },
    {
      "cell_type": "markdown",
      "source": [
        "# Some basic quantum operators"
      ],
      "metadata": {
        "id": "G8SCEi35dDSu"
      }
    },
    {
      "cell_type": "code",
      "source": [
        "x = np.array([[0,1],[1,0]])                       # Pauli sigma X matrix\n",
        "y = np.array([[0,-1j],[1j,0]])                    # Pauli sigma X matrix\n",
        "z = np.array([[1,0],[0,-1]])                      # Pauli sigma X matrix\n",
        "h = (1/np.sqrt(2))*np.array([[1,1],[1,-1]])       # Pauli sigma X matrix\n",
        "cnot = np.array([[1,0,0,0],[0,1,0,0],[0,0,0,1],[0,0,1,0]])\n",
        "Ocnot = np.array([[0,1,0,0],[1,0,0,0],[0,0,1,0],[0,0,0,1]])\n",
        "cz = np.array([[1,0,0,0],[0,1,0,0],[0,0,1,0],[0,0,0,-1]])\n",
        "\n",
        "zero = one = np.array([[1],[0]])                  # |0>\n",
        "one = np.array([[0],[1]])                         # |1>\n",
        "v = (1/2)*np.array([[1+1j,1-1j],[1-1j,1+1j]])     # qiskit sx gate; sqrt(x)\n",
        "e = np.array([[1,0],[0,1]])"
      ],
      "metadata": {
        "id": "1HNUPh6qdDdg"
      },
      "execution_count": null,
      "outputs": []
    },
    {
      "cell_type": "code",
      "source": [
        "omega = 0.4\n",
        "t= 21\n",
        "\n",
        "num_qubit = 4\n",
        "# Building the main block of the Suzuki-Trotter\n",
        "cirq = QuantumCircuit(num_qubit)\n",
        "cirq.h(0)\n",
        "cirq.sdg(2)\n",
        "cirq.h(2)\n",
        "cirq.h(3)\n",
        "cirq.barrier()\n",
        "\n",
        "for i in range(num_qubit-1):\n",
        "  cirq.cx(i,i+1)\n",
        "\n",
        "cirq.rz((omega*2*t), num_qubit-1)\n",
        "\n",
        "for i in reversed(range(num_qubit-1)):\n",
        "    cirq.cx(i, i+1)\n",
        "cirq.barrier()\n",
        "\n",
        "cirq.h(0)\n",
        "cirq.h(2)\n",
        "cirq.s(2)\n",
        "cirq.h(3)\n",
        "cirq.barrier()\n",
        "\n",
        "\n",
        "display(qplot(cirq), Statevector(cirq).draw('latex'))"
      ],
      "metadata": {
        "colab": {
          "base_uri": "https://localhost:8080/",
          "height": 283
        },
        "id": "Qr5Pa5ZmZBUG",
        "outputId": "b68dc97b-85d4-48d5-a5a0-05d8f5c0072b"
      },
      "execution_count": null,
      "outputs": [
        {
          "output_type": "display_data",
          "data": {
            "text/plain": [
              "<Figure size 1074.81x294.311 with 1 Axes>"
            ],
            "image/png": "[encoded data removed]"
          },
          "metadata": {}
        },
        {
          "output_type": "display_data",
          "data": {
            "text/plain": [
              "<IPython.core.display.Latex object>"
            ],
            "text/latex": "$$-0.5192886541 |0000\\rangle+0.8545989081 |1101\\rangle$$"
          },
          "metadata": {}
        }
      ]
    },
    {
      "cell_type": "code",
      "source": [
        "U_quantum = Operator(cirq.reverse_bits()).data\n",
        "\n",
        "array_to_latex(U_quantum)"
      ],
      "metadata": {
        "id": "W39stImPZBfQ",
        "colab": {
          "base_uri": "https://localhost:8080/",
          "height": 191
        },
        "outputId": "6a22cc05-d375-4bb8-d0f8-a917cf9a4613"
      },
      "execution_count": null,
      "outputs": [
        {
          "output_type": "execute_result",
          "data": {
            "text/plain": [
              "<IPython.core.display.Latex object>"
            ],
            "text/latex": "$$\n\n\\begin{bmatrix}\n-0.5192886541 & 0 & 0 & 0 & \\cdots & 0 & 0 & 0  \\\\\n 0 & -0.5192886541 & 0 & 0 & \\cdots & 0 & 0 & 0  \\\\\n 0 & 0 & -0.5192886541 & 0 & \\cdots & 0 & 0 & 0  \\\\\n 0 & 0 & 0 & -0.5192886541 & \\cdots & 0 & 0 & 0  \\\\\n \\vdots & \\vdots & \\vdots & \\vdots & \\ddots & \\vdots & \\vdots & \\vdots \\\\\n 0 & 0 & 0 & 0 & \\cdots & -0.5192886541 & 0 & 0  \\\\\n 0 & 0 & 0 & 0 & \\cdots & 0 & -0.5192886541 & 0  \\\\\n 0 & 0 & 0 & 0 & \\cdots & 0 & 0 & -0.5192886541  \\\\\n \\end{bmatrix}\n$$"
          },
          "metadata": {},
          "execution_count": 46
        }
      ]
    },
    {
      "cell_type": "markdown",
      "source": [
        "## Exact Solution By using Scipy library"
      ],
      "metadata": {
        "id": "XJwwDsWZ2GzV"
      }
    },
    {
      "cell_type": "code",
      "source": [
        "hamiltonian = omega*(f(f(f(x,z),y),x))"
      ],
      "metadata": {
        "id": "9tA6kqz02Ch8"
      },
      "execution_count": null,
      "outputs": []
    },
    {
      "cell_type": "code",
      "source": [
        "# Exact Answer\n",
        "U_exact = expm(-1j*hamiltonian*t)\n",
        "array_to_latex(U_exact)"
      ],
      "metadata": {
        "id": "pI0z2gmzZBhT",
        "colab": {
          "base_uri": "https://localhost:8080/",
          "height": 191
        },
        "outputId": "e6263c39-db5e-439f-9b5f-6d388f5c14c9"
      },
      "execution_count": null,
      "outputs": [
        {
          "output_type": "execute_result",
          "data": {
            "text/plain": [
              "<IPython.core.display.Latex object>"
            ],
            "text/latex": "$$\n\n\\begin{bmatrix}\n-0.5192886541 & 0 & 0 & 0 & \\cdots & 0 & 0 & 0  \\\\\n 0 & -0.5192886541 & 0 & 0 & \\cdots & 0 & 0 & 0  \\\\\n 0 & 0 & -0.5192886541 & 0 & \\cdots & 0 & 0 & 0  \\\\\n 0 & 0 & 0 & -0.5192886541 & \\cdots & 0 & 0 & 0  \\\\\n \\vdots & \\vdots & \\vdots & \\vdots & \\ddots & \\vdots & \\vdots & \\vdots \\\\\n 0 & 0 & 0 & 0 & \\cdots & -0.5192886541 & 0 & 0  \\\\\n 0 & 0 & 0 & 0 & \\cdots & 0 & -0.5192886541 & 0  \\\\\n 0 & 0 & 0 & 0 & \\cdots & 0 & 0 & -0.5192886541  \\\\\n \\end{bmatrix}\n$$"
          },
          "metadata": {},
          "execution_count": 47
        }
      ]
    },
    {
      "cell_type": "markdown",
      "source": [
        "## Checking if these two matrix are equal"
      ],
      "metadata": {
        "id": "OnDNp9_jZBj_"
      }
    },
    {
      "cell_type": "code",
      "source": [
        "np.allclose(U_exact, U_quantum)"
      ],
      "metadata": {
        "id": "s4S0R4dNZBnY",
        "colab": {
          "base_uri": "https://localhost:8080/"
        },
        "outputId": "a4266841-e6fd-46a4-9435-6ccf636416d0"
      },
      "execution_count": null,
      "outputs": [
        {
          "output_type": "execute_result",
          "data": {
            "text/plain": [
              "True"
            ]
          },
          "metadata": {},
          "execution_count": 48
        }
      ]
    },
    {
      "cell_type": "code",
      "source": [],
      "metadata": {
        "id": "eVir2tcCZBqX"
      },
      "execution_count": null,
      "outputs": []
    },
    {
      "cell_type": "code",
      "source": [],
      "metadata": {
        "id": "JKt36MKYZBtg"
      },
      "execution_count": null,
      "outputs": []
    },
    {
      "cell_type": "code",
      "source": [],
      "metadata": {
        "id": "2_iyqMjWZCpI"
      },
      "execution_count": null,
      "outputs": []
    }
  ]
}