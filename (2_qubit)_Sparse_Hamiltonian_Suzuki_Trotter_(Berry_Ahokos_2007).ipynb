{
  "nbformat": 4,
  "nbformat_minor": 0,
  "metadata": {
    "colab": {
      "provenance": []
    },
    "kernelspec": {
      "name": "python3",
      "display_name": "Python 3"
    },
    "language_info": {
      "name": "python"
    }
  },
  "cells": [
    {
      "cell_type": "markdown",
      "source": [
        "# Installing the qiskit and importing the libraries"
      ],
      "metadata": {
        "id": "8WOo_SG27-7Y"
      }
    },
    {
      "cell_type": "code",
      "execution_count": null,
      "metadata": {
        "id": "SKHWYfmDY_rE"
      },
      "outputs": [],
      "source": [
        "!pip install qiskit\n",
        "!pip install qiskit_aer\n",
        "!pip install pylatexenc"
      ]
    },
    {
      "cell_type": "code",
      "source": [
        "# Importing the necessary libraries\n",
        "import numpy as np\n",
        "import networkx as nx\n",
        "import matplotlib.pyplot as plt\n",
        "\n",
        "from scipy.linalg import expm\n",
        "\n",
        "\n",
        "import math\n",
        "from math import pi,comb, floor\n",
        "\n",
        "# Importing standard Qiskit libraries\n",
        "from qiskit import *\n",
        "from qiskit.quantum_info import Statevector, Operator\n",
        "from qiskit.circuit import  Parameter\n",
        "from qiskit.visualization import *\n",
        "from qiskit_aer import *"
      ],
      "metadata": {
        "id": "dTftSdA8ZBMD"
      },
      "execution_count": 2,
      "outputs": []
    },
    {
      "cell_type": "markdown",
      "source": [
        "## Function for plotting quantum circuit"
      ],
      "metadata": {
        "id": "ycaBIlTLc9Hp"
      }
    },
    {
      "cell_type": "code",
      "source": [
        "def qplot(x):\n",
        "  return x.draw('mpl', initial_state = True, scale = 0.8, fold = False)"
      ],
      "metadata": {
        "id": "1IldnhXHc9Rr"
      },
      "execution_count": 3,
      "outputs": []
    },
    {
      "cell_type": "markdown",
      "source": [
        "## Function for doing tensor product"
      ],
      "metadata": {
        "id": "1JIzOyPNc-EW"
      }
    },
    {
      "cell_type": "code",
      "source": [
        "def f(x,y):\n",
        "  return np.kron(x,y)"
      ],
      "metadata": {
        "id": "0LFb8BTOc-OK"
      },
      "execution_count": 4,
      "outputs": []
    },
    {
      "cell_type": "markdown",
      "source": [
        "## Some basic quantum operators"
      ],
      "metadata": {
        "id": "G8SCEi35dDSu"
      }
    },
    {
      "cell_type": "code",
      "source": [
        "x = np.array([[0,1],[1,0]])                       # Pauli sigma X matrix\n",
        "y = np.array([[0,-1j],[1j,0]])                    # Pauli sigma X matrix\n",
        "z = np.array([[1,0],[0,-1]])                      # Pauli sigma X matrix\n",
        "h = (1/np.sqrt(2))*np.array([[1,1],[1,-1]])       # Pauli sigma X matrix\n",
        "cnot = np.array([[1,0,0,0],[0,1,0,0],[0,0,0,1],[0,0,1,0]])\n",
        "Ocnot = np.array([[0,1,0,0],[1,0,0,0],[0,0,1,0],[0,0,0,1]])\n",
        "cz = np.array([[1,0,0,0],[0,1,0,0],[0,0,1,0],[0,0,0,-1]])\n",
        "swap = np.array([[1,0,0,0],[0,0,1,0],[0,1,0,0],[0,0,0,1]])\n",
        "\n",
        "zero = one = np.array([[1],[0]])                  # |0>\n",
        "one = np.array([[0],[1]])                         # |1>\n",
        "v = (1/2)*np.array([[1+1j,1-1j],[1-1j,1+1j]])     # qiskit sx gate; sqrt(x)\n",
        "e = np.array([[1,0],[0,1]])"
      ],
      "metadata": {
        "id": "1HNUPh6qdDdg"
      },
      "execution_count": 5,
      "outputs": []
    },
    {
      "cell_type": "code",
      "source": [
        "from qiskit.circuit.library import RYGate, GlobalPhaseGate"
      ],
      "metadata": {
        "id": "EDdaJ8H9QYWG"
      },
      "execution_count": 6,
      "outputs": []
    },
    {
      "cell_type": "markdown",
      "source": [
        "Let me consider the following Hamiltonian [[ref]](https://www.google.pl/books/edition/Quantum_Information_Science/UkbMEAAAQBAJ?hl=en&gbpv=1&dq=Riccardo+Manenti,+Mario+Motta+-+Quantum+Information+Science&printsec=frontcover)\n",
        "$$\\mathcal{H} =\n",
        "\\begin{pmatrix}\n",
        "0 & 1 & 1 & 0 \\\\\n",
        "1 & 0 & 0 & 1 \\\\\n",
        "1 & 0 & 0 & 1 \\\\\n",
        "0 & 1 & 1 & 0 \\\\\n",
        "\\end{pmatrix}\n",
        "$$\n",
        "![image.png](data:image/png;base64,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)"
      ],
      "metadata": {
        "id": "FIRyR1gjZBP4"
      }
    },
    {
      "cell_type": "markdown",
      "source": [
        "$$\\mathcal{H} = \\mathcal{H}_r + \\mathcal{H}_b$$\n",
        "where\n",
        "- $$\\mathcal{H}_r = |00⟩ ⟨10|+|10⟩ ⟨00|+|01⟩ ⟨11|+|11⟩ ⟨01|$$\n",
        "- $$\\mathcal{H}_b = |00⟩ ⟨01|+|01⟩ ⟨00|+|01⟩ ⟨11|+|11⟩ ⟨10|$$"
      ],
      "metadata": {
        "id": "auOhMw13TMvo"
      }
    },
    {
      "cell_type": "code",
      "source": [
        "# Create the Graph associated to the Hamiltonian\n",
        "G = nx.Graph()\n",
        "G.add_nodes_from([0, 1, 2, 3])\n",
        "elist = [(0, 1, 1), (0, 2, 1), (1, 3, 1), (2, 3, 1)]\n",
        "G.add_weighted_edges_from(elist)\n",
        "\n",
        "def draw_graph(G, node_colors, edge_colors, pos):\n",
        "    default_axes = plt.axes(frameon=True)\n",
        "    nx.draw_networkx(G, node_color=node_colors, node_size=600, alpha=0.8, ax=default_axes, pos=pos)\n",
        "    nx.draw_networkx_edges(G, pos, edge_color=edge_colors, width=2, ax=default_axes)\n",
        "    edge_labels = nx.get_edge_attributes(G, \"weight\")\n",
        "    nx.draw_networkx_edge_labels(G, pos=pos, edge_labels=edge_labels)\n",
        "\n",
        "# Set node colors and edge colors\n",
        "node_colors = [\"k\" for node in G.nodes()]\n",
        "edge_colors = [\"b\", \"r\", \"r\", \"b\"]  # Specify colors for edges\n",
        "\n",
        "# Position nodes using spring layout\n",
        "pos = nx.spring_layout(G)\n",
        "\n",
        "# Draw the graph\n",
        "draw_graph(G, node_colors, edge_colors, pos)"
      ],
      "metadata": {
        "colab": {
          "base_uri": "https://localhost:8080/",
          "height": 406
        },
        "id": "hO0DnhbcOGDf",
        "outputId": "9a2ea4d8-5b43-4cf7-9365-d1b070c2dd0d"
      },
      "execution_count": 7,
      "outputs": [
        {
          "output_type": "display_data",
          "data": {
            "text/plain": [
              "<Figure size 640x480 with 1 Axes>"
            ],
            "image/png": "[encoded data removed]"
          },
          "metadata": {}
        }
      ]
    },
    {
      "cell_type": "markdown",
      "source": [
        "## Circuit Dynamics"
      ],
      "metadata": {
        "id": "GYhxvasnIFOk"
      }
    },
    {
      "cell_type": "markdown",
      "source": [
        "Let us simulate the dynamics using three registers:\n",
        "\n",
        "1. Main Register: 2-qubit\n",
        "2. Ancillary Register: 2-qubit\n",
        "3. Ancillary Register for matrix values : 1 qubit"
      ],
      "metadata": {
        "id": "UCbw5B8xUIbe"
      }
    },
    {
      "cell_type": "markdown",
      "source": [
        "We need to build $V_{\\Delta t}$ that simulate the system evolution for time interval $\\Delta t$\n",
        "\n",
        "$$V_{\\Delta t} = (V_b^\\dagger \\text{e}^{-iS\\Delta t}V_b) (V_r^\\dagger \\text{e}^{-iS\\Delta t}V_r)$$\n",
        "\n",
        "where\n",
        "\n",
        "$$V_c |a⟩|b⟩|z⟩=|a⟩|b\\oplus v_c(a)⟩|z\\oplus h_{a,v_c(a)}⟩ $$\n",
        "we will put all ancillas equal to $|0⟩$ and simplify the $V_c$ like below\n",
        "\n",
        "$$V_c |a⟩|00⟩|0⟩=|a⟩|v_c(a)⟩|h_{a,v_c(a)}⟩ $$"
      ],
      "metadata": {
        "id": "M9oZwpIVUIfc"
      }
    },
    {
      "cell_type": "markdown",
      "source": [
        "For this Hamiltonian we have following values for $v_c$ for colors red ($r$) and blue ($b$)\n",
        "\n",
        "1. $v_r (0) = 2\\quad \\equiv (v_r (00) = 10)\\quad ⟶ \\qquad h_{0,v_r(0)} = h_{0,2} = 1 $\n",
        "2. $v_r (1) = 3\\quad \\equiv(v_r (01) = 11)\\quad ⟶ \\qquad h_{1,v_r(1)} = h_{1,3} = 1 $\n",
        "3. $v_r (2) = 0\\quad \\equiv(v_r (10) = 00)\\quad ⟶ \\qquad h_{2,v_r(2)} = h_{2,0} = 1 $\n",
        "4. $v_r (3) = 1\\quad \\equiv(v_r (11) = 01)\\quad ⟶ \\qquad h_{3,v_r(3)} = h_{3,1} = 1 $"
      ],
      "metadata": {
        "id": "gWnuwoWEW0Nf"
      }
    },
    {
      "cell_type": "markdown",
      "source": [
        "## Building the $V_r$ Operator"
      ],
      "metadata": {
        "id": "O0IABKKtX3RM"
      }
    },
    {
      "cell_type": "markdown",
      "source": [
        "So now we are ready to design the operators $V_r$ and $V_b$. By using above values we can say\n",
        "\n",
        "$$V_r|00⟩|00⟩|0⟩ = |00⟩|v_r(00)⟩|h_{0,2}⟩ = |00⟩|10⟩|1⟩ $$\n",
        "$$V_r|01⟩|00⟩|0⟩ = |01⟩|v_r(01)⟩|h_{1,2}⟩ = |01⟩|11⟩|1⟩ $$\n",
        "$$V_r|10⟩|00⟩|0⟩ = |10⟩|v_r(10)⟩|h_{2,0}⟩ = |10⟩|00⟩|1⟩ $$\n",
        "$$V_r|11⟩|00⟩|0⟩ = |11⟩|v_r(11)⟩|h_{3,2}⟩ = |11⟩|01⟩|1⟩ $$\n",
        "\n",
        "Now we should guess what the $V_r$ could be?\n",
        "It is obvious the second ancillary qubit always is 1, then we can just put a $X$ gate there.\n",
        "$$V_r = \\text{CNOT}_{0,2}\\text{CNOT}_{1,3}\\text{X}_2\\text{X}_4$$"
      ],
      "metadata": {
        "id": "ZpBhQVaCcAt9"
      }
    },
    {
      "cell_type": "code",
      "source": [
        "qmain = QuantumRegister(2, name=\"main\")\n",
        "qa1 = QuantumRegister(2, name=\"ancilla\")\n",
        "qa2 = QuantumRegister(1, name=\"value\")\n",
        "\n",
        "cirq1 = QuantumCircuit(qmain, qa1, qa2)\n",
        "\n",
        "# V_r\n",
        "for i in range(2):\n",
        "  cirq1.cx(qmain[i], qa1[i])\n",
        "\n",
        "cirq1.x(qa2)\n",
        "cirq1.x(qa1[0])\n",
        "#cirq.barrier()\n",
        "\n",
        "vr = cirq1.to_gate()\n",
        "vr.name = \"Vr\"\n",
        "\n",
        "vrdg = vr.inverse()\n",
        "\n",
        "display(qplot(cirq1), Statevector(cirq1.reverse_bits()).draw('latex'))"
      ],
      "metadata": {
        "id": "Qr5Pa5ZmZBUG",
        "colab": {
          "base_uri": "https://localhost:8080/",
          "height": 335
        },
        "outputId": "7ba08cad-17e8-4892-9aed-6e4520f120e9"
      },
      "execution_count": 8,
      "outputs": [
        {
          "output_type": "display_data",
          "data": {
            "text/plain": [
              "<Figure size 399.762x361.2 with 1 Axes>"
            ],
            "image/png": "[encoded data removed]"
          },
          "metadata": {}
        },
        {
          "output_type": "display_data",
          "data": {
            "text/plain": [
              "<IPython.core.display.Latex object>"
            ],
            "text/latex": "$$ |00101\\rangle$$"
          },
          "metadata": {}
        }
      ]
    },
    {
      "cell_type": "markdown",
      "source": [
        "## Building the $V_b$ Operator"
      ],
      "metadata": {
        "id": "Yy7sxkV5H4fr"
      }
    },
    {
      "cell_type": "markdown",
      "source": [
        "## $v_c(a)$"
      ],
      "metadata": {
        "id": "IM7tvXOL8x2N"
      }
    },
    {
      "cell_type": "markdown",
      "source": [
        "1. $v_b (0) = 1\\quad \\equiv(v_b (00) = 01)\\quad ⟶ \\qquad h_{0,v_b(0)} = h_{0,1} = 1 $\n",
        "2. $v_b (1) = 0 \\quad \\equiv(v_b (10) = 00)\\quad ⟶ \\qquad h_{1,v_b(0)} = h_{1,1} = 1 $\n",
        "3. $v_b (2) = 3\\quad \\equiv(v_b (10) = 11)\\quad ⟶ \\qquad h_{2,v_b(0)} = h_{2,1} = 1 $\n",
        "4. $v_b (3) = 2\\quad \\equiv(v_b (00) = 10)\\quad ⟶ \\qquad h_{3,v_b(0)} = h_{3,1} = 1 $"
      ],
      "metadata": {
        "id": "0tqrx8ZP8yKY"
      }
    },
    {
      "cell_type": "markdown",
      "source": [
        "for $V_b$ we have the same\n",
        "$$V_b|00⟩|00⟩|0⟩ = |00⟩|v_b(00)⟩|h_{0,1}⟩ = |00⟩|01⟩|1⟩ $$\n",
        "$$V_b|01⟩|00⟩|0⟩ = |01⟩|v_b(01)⟩|h_{1,1}⟩ = |01⟩|00⟩|1⟩ $$\n",
        "$$V_b|10⟩|00⟩|0⟩ = |10⟩|v_b(10)⟩|h_{2,1}⟩ = |10⟩|11⟩|1⟩ $$\n",
        "$$V_b|11⟩|00⟩|0⟩ = |11⟩|v_b(11)⟩|h_{3,1}⟩ = |11⟩|10⟩|1⟩ $$\n",
        "\n",
        "Now we should guess what the $V_b$ could be?\n",
        "It is obvious the second ancillary qubit always is 1, then we can just put a $X$ gate there.\n",
        "$$V_b = \\text{CNOT}_{0,2}\\text{CNOT}_{1,3}\\text{X}_3\\text{X}_4$$"
      ],
      "metadata": {
        "id": "prnnaiKZuYVW"
      }
    },
    {
      "cell_type": "code",
      "source": [
        "cirq2 = QuantumCircuit(qmain, qa1, qa2)\n",
        "\n",
        "# V_r\n",
        "for i in range(2):\n",
        "  cirq2.cx(qmain[i], qa1[i])\n",
        "\n",
        "cirq2.x(qa2)\n",
        "cirq2.x(qa1[1])\n",
        "#cirq.barrier()\n",
        "\n",
        "vb = cirq2.to_gate()\n",
        "vb.name = \"Vb\"\n",
        "\n",
        "vbdg = vb.inverse()\n",
        "\n",
        "display(qplot(cirq2), Statevector(cirq2.reverse_bits()).draw('latex'))"
      ],
      "metadata": {
        "id": "Jvw6qd-MwcKk",
        "colab": {
          "base_uri": "https://localhost:8080/",
          "height": 335
        },
        "outputId": "9cf8d0e6-44dd-4305-9536-941ef23acfb2"
      },
      "execution_count": 9,
      "outputs": [
        {
          "output_type": "display_data",
          "data": {
            "text/plain": [
              "<Figure size 399.762x361.2 with 1 Axes>"
            ],
            "image/png": "[encoded data removed]"
          },
          "metadata": {}
        },
        {
          "output_type": "display_data",
          "data": {
            "text/plain": [
              "<IPython.core.display.Latex object>"
            ],
            "text/latex": "$$ |00011\\rangle$$"
          },
          "metadata": {}
        }
      ]
    },
    {
      "cell_type": "markdown",
      "source": [
        "## Building the $\\text{e}^{-iS\\Delta t}$ Operator"
      ],
      "metadata": {
        "id": "FKR48YRTHxJy"
      }
    },
    {
      "cell_type": "markdown",
      "source": [
        "To implement $\\text{e}^{-iS\\Delta t}$ first we need to diagonalize the SWAP gate with a change of basis\n",
        "\n",
        "$$\\text{SWAP} =\n",
        " \\begin{pmatrix}\n",
        " 1 & 0  & 0 & 0 \\\\\n",
        " 0 & 0  & 1 & 0 \\\\\n",
        " 0 & 1  & 0 & 0 \\\\\n",
        " 0 & 0  & 0 & 1 \\\\\n",
        " \\end{pmatrix} $$\n",
        " We can make this gate diagonalize by using the following equation\n",
        " $$\\text{SWAP} = W^\\dagger D W $$\n",
        "\n",
        " where\n",
        "$$ W =\n",
        " \\begin{pmatrix}\n",
        " 1 & 0  & 0 & 0 \\\\\n",
        " 0 & 1/\\sqrt{2}  & 1/\\sqrt{2} & 0 \\\\\n",
        " 0 & -1/\\sqrt{2}  & 1/\\sqrt{2} & 0 \\\\\n",
        " 0 & 0  & 0 & 1 \\\\\n",
        " \\end{pmatrix} \\qquad\n",
        " D =\n",
        "  \\begin{pmatrix}\n",
        " 1 & 0  & 0 & 0 \\\\\n",
        " 0 & -1  & 0 & 0 \\\\\n",
        " 0 & 0  & 1 & 0 \\\\\n",
        " 0 & 0  & 0 & 1 \\\\\n",
        " \\end{pmatrix}\n",
        " $$\n"
      ],
      "metadata": {
        "id": "zfyyDIleSp3h"
      }
    },
    {
      "cell_type": "markdown",
      "source": [
        "we can decompose W based on the well-know quantum Gates\n",
        "\n",
        "\\begin{eqnarray}\n",
        " W &=& U_+^† CR_y(π/2) U_+   \\\\\n",
        "&=&\n",
        "\\begin{pmatrix}\n",
        "  1 & 0  & 0 & 0 \\\\\n",
        "  0 & 0  & 0 & 1 \\\\\n",
        "  0 & 0  & 1 & 0 \\\\\n",
        "  0 & 1  & 0 & 0 \\\\\n",
        " \\end{pmatrix}  \n",
        " \\begin{pmatrix}\n",
        " 1 & 0  & 0 & 0 \\\\\n",
        " 0 & 1  & 0 & 0 \\\\\n",
        " 0 & 0 & 1/\\sqrt{2}  & 1/\\sqrt{2}  \\\\\n",
        " 0 & 0 & 1/\\sqrt{2} & -1/\\sqrt{2} \\\\\n",
        " \\end{pmatrix}\n",
        " \\begin{pmatrix}\n",
        "  1 & 0  & 0 & 0 \\\\\n",
        "  0 & 0  & 0 & 1 \\\\\n",
        "  0 & 0  & 1 & 0 \\\\\n",
        "  0 & 1  & 0 & 0 \\\\\n",
        " \\end{pmatrix} \\\\\n",
        " &=&\n",
        " \\begin{pmatrix}\n",
        " 1 & 0  & 0 & 0 \\\\\n",
        " 0 & 1/\\sqrt{2}  & 1/\\sqrt{2} & 0 \\\\\n",
        " 0 & -1/\\sqrt{2}  & 1/\\sqrt{2} & 0 \\\\\n",
        " 0 & 0  & 0 & 1 \\\\\n",
        " \\end{pmatrix}\n",
        " \\end{eqnarray}\n",
        "\n",
        " Where $U_+$ is just a circuit in which the target and control qubits have been changed."
      ],
      "metadata": {
        "id": "wSRUzxynUoKV"
      }
    },
    {
      "cell_type": "markdown",
      "source": [
        "### Building the $W$ gate"
      ],
      "metadata": {
        "id": "eKkOylU3YAp1"
      }
    },
    {
      "cell_type": "code",
      "source": [
        "cirq3 = QuantumCircuit(qmain)\n",
        "cirq3.cx(1,0)\n",
        "cirq3.cry(np.pi/2, 0,1)\n",
        "cirq3.cx(1,0)\n",
        "\n",
        "w = cirq3.to_gate()\n",
        "w.name = \"W\"\n",
        "\n",
        "wdg = w.inverse()\n",
        "\n",
        "display(qplot(cirq3), \"W\" ,array_to_latex(Operator(cirq3.reverse_bits()).data), \"Wdg\" ,array_to_latex(Operator(cirq3.inverse().reverse_bits()).data))"
      ],
      "metadata": {
        "colab": {
          "base_uri": "https://localhost:8080/",
          "height": 373
        },
        "id": "o2WhmKbsYA6v",
        "outputId": "fa5f9455-c82a-4821-f8da-714490fc1b86"
      },
      "execution_count": 10,
      "outputs": [
        {
          "output_type": "display_data",
          "data": {
            "text/plain": [
              "<Figure size 382.139x160.533 with 1 Axes>"
            ],
            "image/png": "[encoded data removed]"
          },
          "metadata": {}
        },
        {
          "output_type": "display_data",
          "data": {
            "text/plain": [
              "'W'"
            ],
            "application/vnd.google.colaboratory.intrinsic+json": {
              "type": "string"
            }
          },
          "metadata": {}
        },
        {
          "output_type": "display_data",
          "data": {
            "text/plain": [
              "<IPython.core.display.Latex object>"
            ],
            "text/latex": "$$\n\n\\begin{bmatrix}\n1 & 0 & 0 & 0  \\\\\n 0 & \\frac{\\sqrt{2}}{2} & \\frac{\\sqrt{2}}{2} & 0  \\\\\n 0 & - \\frac{\\sqrt{2}}{2} & \\frac{\\sqrt{2}}{2} & 0  \\\\\n 0 & 0 & 0 & 1  \\\\\n \\end{bmatrix}\n$$"
          },
          "metadata": {}
        },
        {
          "output_type": "display_data",
          "data": {
            "text/plain": [
              "'Wdg'"
            ],
            "application/vnd.google.colaboratory.intrinsic+json": {
              "type": "string"
            }
          },
          "metadata": {}
        },
        {
          "output_type": "display_data",
          "data": {
            "text/plain": [
              "<IPython.core.display.Latex object>"
            ],
            "text/latex": "$$\n\n\\begin{bmatrix}\n1 & 0 & 0 & 0  \\\\\n 0 & \\frac{\\sqrt{2}}{2} & - \\frac{\\sqrt{2}}{2} & 0  \\\\\n 0 & \\frac{\\sqrt{2}}{2} & \\frac{\\sqrt{2}}{2} & 0  \\\\\n 0 & 0 & 0 & 1  \\\\\n \\end{bmatrix}\n$$"
          },
          "metadata": {}
        }
      ]
    },
    {
      "cell_type": "markdown",
      "source": [
        "## Building the $D$ gate"
      ],
      "metadata": {
        "id": "2CAmg_hccjIo"
      }
    },
    {
      "cell_type": "code",
      "source": [
        "# Matrix D\n",
        "cirq4 = QuantumCircuit(qmain)\n",
        "cirq4.x(0)\n",
        "cirq4.cp(np.pi,0,1)\n",
        "cirq4.x(0)\n",
        "\n",
        "d = cirq4.to_gate()\n",
        "d.name = \"D\"\n",
        "\n",
        "display(qplot(cirq4), array_to_latex(Operator(cirq4.reverse_bits()).data))"
      ],
      "metadata": {
        "colab": {
          "base_uri": "https://localhost:8080/",
          "height": 241
        },
        "id": "JQXXNeZRi3pl",
        "outputId": "4f10f04c-fa33-4a53-b7fc-306c237135da"
      },
      "execution_count": 11,
      "outputs": [
        {
          "output_type": "display_data",
          "data": {
            "text/plain": [
              "<Figure size 382.139x160.533 with 1 Axes>"
            ],
            "image/png": "[encoded data removed]"
          },
          "metadata": {}
        },
        {
          "output_type": "display_data",
          "data": {
            "text/plain": [
              "<IPython.core.display.Latex object>"
            ],
            "text/latex": "$$\n\n\\begin{bmatrix}\n1 & 0 & 0 & 0  \\\\\n 0 & -1 & 0 & 0  \\\\\n 0 & 0 & 1 & 0  \\\\\n 0 & 0 & 0 & 1  \\\\\n \\end{bmatrix}\n$$"
          },
          "metadata": {}
        }
      ]
    },
    {
      "cell_type": "markdown",
      "source": [
        "### Checking the $ W^† D W =$ SWAP"
      ],
      "metadata": {
        "id": "cSYsE4GmKvLW"
      }
    },
    {
      "cell_type": "code",
      "source": [
        "cirq5 = QuantumCircuit(qmain)\n",
        "cirq5.append(wdg,[0,1])\n",
        "cirq5.append(d,[0,1])\n",
        "cirq5.append(w,[0,1])\n",
        "\n",
        "\n",
        "display(qplot(cirq5), array_to_latex(Operator(cirq5.reverse_bits()).data))"
      ],
      "metadata": {
        "colab": {
          "base_uri": "https://localhost:8080/",
          "height": 241
        },
        "id": "YPBvecdMKvXz",
        "outputId": "dd7fb9b9-dbfa-40ae-c13e-1bb67765624c"
      },
      "execution_count": 12,
      "outputs": [
        {
          "output_type": "display_data",
          "data": {
            "text/plain": [
              "<Figure size 449.028x160.533 with 1 Axes>"
            ],
            "image/png": "[encoded data removed]"
          },
          "metadata": {}
        },
        {
          "output_type": "display_data",
          "data": {
            "text/plain": [
              "<IPython.core.display.Latex object>"
            ],
            "text/latex": "$$\n\n\\begin{bmatrix}\n1 & 0 & 0 & 0  \\\\\n 0 & 0 & 1 & 0  \\\\\n 0 & 1 & 0 & 0  \\\\\n 0 & 0 & 0 & 1  \\\\\n \\end{bmatrix}\n$$"
          },
          "metadata": {}
        }
      ]
    },
    {
      "cell_type": "markdown",
      "source": [
        "### Checking the $\\text{e}^{-iS\\Delta t}$\n",
        "In the following circuit I just try to show for just a single SWAP gate how can we build $\\text{e}^{-i(SWAP)\\Delta t}$. To do this we can write it down as\n",
        "$$\\text{e}^{-i(SWAP)\\Delta t} = W\\text{e}^{-i(D)\\Delta t} W^†$$\n",
        "\n",
        "the only part that we should handle it is\n",
        "\n",
        "$$\\text{e}^{-i(D)\\Delta t} =\n",
        "\\begin{pmatrix}\n",
        "\\text{e}^{-i\\Delta t} & 0                    & 0                     & 0 \\\\\n",
        "0                     & \\text{e}^{i\\Delta t} & 0                     & 0 \\\\\n",
        "0                     & 0                    & \\text{e}^{-i\\Delta t} & 0 \\\\\n",
        "0                     & 0                    & 0                     & \\text{e}^{-i\\Delta t} \\\\\n",
        "\\end{pmatrix}\n",
        "= \\text{e}^{-i\\Delta t}\n",
        "\\begin{pmatrix}\n",
        "1 & 0                     & 0 & 0 \\\\\n",
        "0 & \\text{e}^{i2\\Delta t} & 0 & 0 \\\\\n",
        "0 & 0                     & 1 & 0 \\\\\n",
        "0 & 0                     & 0 & 1 \\\\\n",
        "\\end{pmatrix} $$\n",
        "one can decompose this diagonal matrix just according to the control-phase gate\n",
        "$$P(\\theta) =\n",
        "\\begin{pmatrix}\n",
        "1 & 0 \\\\\n",
        "0 & \\text{e}^{i\\theta}\n",
        "\\end{pmatrix}$$\n"
      ],
      "metadata": {
        "id": "TH9LYQ_dKqjq"
      }
    },
    {
      "cell_type": "markdown",
      "source": [
        "so for a controled-phase gate we just need to replace the control bit from $|0⟩$ into the $|1⟩$\n",
        "$$|0⟩⟨0|⊗ P(2Δt) + |1⟩⟨1|⊗ \\mathbb{I} =\n",
        "\\begin{pmatrix}\n",
        "1 & 0                     & 0 & 0 \\\\\n",
        "0 & \\text{e}^{i2\\Delta t} & 0 & 0 \\\\\n",
        "0 & 0                     & 1 & 0 \\\\\n",
        "0 & 0                     & 0 & 1 \\\\\n",
        "\\end{pmatrix} $$"
      ],
      "metadata": {
        "id": "1zzP8KEYOgv_"
      }
    },
    {
      "cell_type": "code",
      "source": [
        "# Matrix exp(-iDt)\n",
        "def expD(t):\n",
        "  circ = QuantumCircuit(qmain)\n",
        "  circ.append(GlobalPhaseGate(-t))\n",
        "  circ.x(0)\n",
        "  circ.cp(2*t,0,1)\n",
        "  circ.x(0)\n",
        "\n",
        "  expd = circ.to_gate()\n",
        "  d.name = \"Exp(-iDΔt)\"\n",
        "\n",
        "  return expd"
      ],
      "metadata": {
        "id": "ULvHmaXLdK1P"
      },
      "execution_count": 13,
      "outputs": []
    },
    {
      "cell_type": "code",
      "source": [
        "circ6 = QuantumCircuit(qmain)\n",
        "circ6.append(expD(np.pi/4), qmain)\n",
        "display(qplot(circ6.decompose()), array_to_latex(Operator(circ6.reverse_bits()).data))"
      ],
      "metadata": {
        "colab": {
          "base_uri": "https://localhost:8080/",
          "height": 255
        },
        "id": "W4PqFzZZ2Xqs",
        "outputId": "8c485d57-f6a5-44b6-a937-27f89946d94c"
      },
      "execution_count": 14,
      "outputs": [
        {
          "output_type": "display_data",
          "data": {
            "text/plain": [
              "<Figure size 449.028x160.533 with 1 Axes>"
            ],
            "image/png": "[encoded data removed]"
          },
          "metadata": {}
        },
        {
          "output_type": "display_data",
          "data": {
            "text/plain": [
              "<IPython.core.display.Latex object>"
            ],
            "text/latex": "$$\n\n\\begin{bmatrix}\n\\frac{\\sqrt{2}}{2} - \\frac{\\sqrt{2} i}{2} & 0 & 0 & 0  \\\\\n 0 & \\frac{\\sqrt{2}}{2} + \\frac{\\sqrt{2} i}{2} & 0 & 0  \\\\\n 0 & 0 & \\frac{\\sqrt{2}}{2} - \\frac{\\sqrt{2} i}{2} & 0  \\\\\n 0 & 0 & 0 & \\frac{\\sqrt{2}}{2} - \\frac{\\sqrt{2} i}{2}  \\\\\n \\end{bmatrix}\n$$"
          },
          "metadata": {}
        }
      ]
    },
    {
      "cell_type": "markdown",
      "source": [
        "### Exact Simulation of $\\text{e}^{-i (SWAP) t}$"
      ],
      "metadata": {
        "id": "tkOQ_1M4Sz6l"
      }
    },
    {
      "cell_type": "code",
      "source": [
        "t = np.pi/4\n",
        "array_to_latex(expm(-1j*swap*t))"
      ],
      "metadata": {
        "colab": {
          "base_uri": "https://localhost:8080/",
          "height": 112
        },
        "id": "DsR6oDNaTjHO",
        "outputId": "91fb0a6d-cd77-4f39-992f-cf9f07c0ca7b"
      },
      "execution_count": 15,
      "outputs": [
        {
          "output_type": "execute_result",
          "data": {
            "text/plain": [
              "<IPython.core.display.Latex object>"
            ],
            "text/latex": "$$\n\n\\begin{bmatrix}\n\\frac{\\sqrt{2}}{2} - \\frac{\\sqrt{2} i}{2} & 0 & 0 & 0  \\\\\n 0 & \\frac{\\sqrt{2}}{2} & - \\frac{\\sqrt{2} i}{2} & 0  \\\\\n 0 & - \\frac{\\sqrt{2} i}{2} & \\frac{\\sqrt{2}}{2} & 0  \\\\\n 0 & 0 & 0 & \\frac{\\sqrt{2}}{2} - \\frac{\\sqrt{2} i}{2}  \\\\\n \\end{bmatrix}\n$$"
          },
          "metadata": {},
          "execution_count": 15
        }
      ]
    },
    {
      "cell_type": "markdown",
      "source": [
        "### quantum circuit for $\\text{e}^{-i (SWAP) t}$"
      ],
      "metadata": {
        "id": "auNh2d3yTzXW"
      }
    },
    {
      "cell_type": "code",
      "source": [
        "def St(t):\n",
        "  qmain = QuantumRegister(2, name=\"main\")\n",
        "  circ = QuantumCircuit(qmain)\n",
        "  circ.append(wdg, [0,1])\n",
        "  circ.append(expD(t),[0,1])\n",
        "  circ.append(w, [0,1])\n",
        "\n",
        "  S = circ.to_gate()\n",
        "  S.name = \"exp(-iS Δt)\"\n",
        "\n",
        "  return S"
      ],
      "metadata": {
        "id": "nnqpHK2zT5Wc"
      },
      "execution_count": 16,
      "outputs": []
    },
    {
      "cell_type": "code",
      "source": [
        "circ7 = QuantumCircuit(qmain)\n",
        "circ7.append(St(t), qmain)\n",
        "display(qplot(circ7), array_to_latex(Operator(circ7.reverse_bits()).data))"
      ],
      "metadata": {
        "colab": {
          "base_uri": "https://localhost:8080/",
          "height": 255
        },
        "id": "cChaocDMO3L-",
        "outputId": "90982463-4f7b-41ad-b0f5-2ba3b20a8156"
      },
      "execution_count": 17,
      "outputs": [
        {
          "output_type": "display_data",
          "data": {
            "text/plain": [
              "<Figure size 315.25x160.533 with 1 Axes>"
            ],
            "image/png": "[encoded data removed]"
          },
          "metadata": {}
        },
        {
          "output_type": "display_data",
          "data": {
            "text/plain": [
              "<IPython.core.display.Latex object>"
            ],
            "text/latex": "$$\n\n\\begin{bmatrix}\n\\frac{\\sqrt{2}}{2} - \\frac{\\sqrt{2} i}{2} & 0 & 0 & 0  \\\\\n 0 & \\frac{\\sqrt{2}}{2} & - \\frac{\\sqrt{2} i}{2} & 0  \\\\\n 0 & - \\frac{\\sqrt{2} i}{2} & \\frac{\\sqrt{2}}{2} & 0  \\\\\n 0 & 0 & 0 & \\frac{\\sqrt{2}}{2} - \\frac{\\sqrt{2} i}{2}  \\\\\n \\end{bmatrix}\n$$"
          },
          "metadata": {}
        }
      ]
    },
    {
      "cell_type": "markdown",
      "source": [
        "## Building the the whole Block $V_{\\Delta t}$"
      ],
      "metadata": {
        "id": "nWDc4DaoRydb"
      }
    },
    {
      "cell_type": "code",
      "source": [
        "def vdt(t):\n",
        "  qmain = QuantumRegister(2, name=\"main\")\n",
        "  qa1 = QuantumRegister(2, name=\"ancilla\")\n",
        "  qa2 = QuantumRegister(1, name=\"value\")\n",
        "\n",
        "  circ = QuantumCircuit(qmain, qa1, qa2)\n",
        "  circ.append(vr, [i for i in range(5)])\n",
        "\n",
        "  for i in range(2):\n",
        "    circ.append(St(t), [qmain[i], qa1[i]])\n",
        "\n",
        "  circ.append(vrdg, [i for i in range(5)])\n",
        "\n",
        "  circ.append(vb, [i for i in range(5)])\n",
        "  for i in range(2):\n",
        "    circ.append(St(t), [qmain[i], qa1[i]])\n",
        "\n",
        "  circ.append(vbdg, [i for i in range(5)])\n",
        "\n",
        "  vdt = circ.to_gate()\n",
        "  vdt.name = \"VΔt\"\n",
        "\n",
        "  return vdt"
      ],
      "metadata": {
        "id": "bwaiIEevRyny"
      },
      "execution_count": 18,
      "outputs": []
    },
    {
      "cell_type": "markdown",
      "source": [
        "# Final Circuit"
      ],
      "metadata": {
        "id": "fpA8awGAXue9"
      }
    },
    {
      "cell_type": "markdown",
      "source": [
        "## Exact Answer: `Scipy`"
      ],
      "metadata": {
        "id": "u2tRgL-s7DDz"
      }
    },
    {
      "cell_type": "code",
      "source": [
        "# parameters\n",
        "T = 200*np.pi/7\n",
        "m = 100\n",
        "t = T/m\n",
        "t"
      ],
      "metadata": {
        "colab": {
          "base_uri": "https://localhost:8080/"
        },
        "id": "UwB5FKiTRZmS",
        "outputId": "3dc95b37-63c4-4cf4-9a2c-49ff0086204a"
      },
      "execution_count": 19,
      "outputs": [
        {
          "output_type": "execute_result",
          "data": {
            "text/plain": [
              "0.8975979010256552"
            ]
          },
          "metadata": {},
          "execution_count": 19
        }
      ]
    },
    {
      "cell_type": "code",
      "source": [
        "hamiltonian = np.array([[0,1,1,0],[1,0,0,1],[1,0,0,1],[0,1,1,0]])\n",
        "array_to_latex(expm(-1j*hamiltonian * T))"
      ],
      "metadata": {
        "id": "rEhbVP0IZBxQ",
        "colab": {
          "base_uri": "https://localhost:8080/",
          "height": 98
        },
        "outputId": "dd7097ea-a988-4a68-f896-612cd13e7242"
      },
      "execution_count": 20,
      "outputs": [
        {
          "output_type": "execute_result",
          "data": {
            "text/plain": [
              "<IPython.core.display.Latex object>"
            ],
            "text/latex": "$$\n\n\\begin{bmatrix}\n0.049515566 & 0.2169418696 i & 0.2169418696 i & -0.950484434  \\\\\n 0.2169418696 i & 0.049515566 & -0.950484434 & 0.2169418696 i  \\\\\n 0.2169418696 i & -0.950484434 & 0.049515566 & 0.2169418696 i  \\\\\n -0.950484434 & 0.2169418696 i & 0.2169418696 i & 0.049515566  \\\\\n \\end{bmatrix}\n$$"
          },
          "metadata": {},
          "execution_count": 20
        }
      ]
    },
    {
      "cell_type": "code",
      "source": [
        "qmain = QuantumRegister(2, name=\"main\")\n",
        "qa1 = QuantumRegister(2, name=\"ancilla\")\n",
        "qa2 = QuantumRegister(1, name=\"value\")\n",
        "cbits = ClassicalRegister(3)\n",
        "circuit = QuantumCircuit(qmain, qa1, qa2, cbits)\n",
        "\n",
        "for i in range(m):\n",
        "  circuit.append(vdt(t), [i for i in range(5)])\n",
        "\n",
        "Statevector(circuit.reverse_bits()).draw('latex')\n",
        "#display(qplot(circuit.decompose(reps=1)), Statevector(circuit.reverse_bits()).draw('latex'))"
      ],
      "metadata": {
        "id": "JKt36MKYZBtg",
        "colab": {
          "base_uri": "https://localhost:8080/",
          "height": 60
        },
        "outputId": "1f3a3da0-af26-4224-e9c5-2138acc40cbd"
      },
      "execution_count": 21,
      "outputs": [
        {
          "output_type": "execute_result",
          "data": {
            "text/plain": [
              "<IPython.core.display.Latex object>"
            ],
            "text/latex": "$$(-0.0446119835 + 0.0214839989 i) |00000\\rangle+(-0.0941275495 - 0.1954578706 i) |01000\\rangle+(-0.0941275495 - 0.1954578706 i) |10000\\rangle+(0.8563568844 - 0.4123997402 i) |11000\\rangle$$"
          },
          "metadata": {},
          "execution_count": 21
        }
      ]
    },
    {
      "cell_type": "markdown",
      "source": [
        "### Measurement"
      ],
      "metadata": {
        "id": "HCvtwAR4k4qG"
      }
    },
    {
      "cell_type": "code",
      "source": [
        "circuit.measure([2,3,4], cbits)\n",
        "#circuit.measure_all()\n",
        "qplot(circuit)"
      ],
      "metadata": {
        "colab": {
          "base_uri": "https://localhost:8080/",
          "height": 131
        },
        "id": "6xszbyBo5PUv",
        "outputId": "98c621e1-a4f6-434a-e8c3-f37eb6bcac52"
      },
      "execution_count": 22,
      "outputs": [
        {
          "output_type": "execute_result",
          "data": {
            "text/plain": [
              "<Figure size 7088.65x428.089 with 1 Axes>"
            ],
            "image/png": "[encoded data removed]"
          },
          "metadata": {},
          "execution_count": 22
        }
      ]
    },
    {
      "cell_type": "markdown",
      "source": [
        "## Simulation with `StatevectorSimulaton`"
      ],
      "metadata": {
        "id": "DwPg8s_sk8NN"
      }
    },
    {
      "cell_type": "code",
      "source": [
        "backend = StatevectorSimulator()\n",
        "trans_circ = transpile(circuit, backend)\n",
        "job = backend.run(trans_circ)\n",
        "result = job.result()\n",
        "measured_sv = result.get_statevector()"
      ],
      "metadata": {
        "id": "dwiyW7_u32-w"
      },
      "execution_count": 48,
      "outputs": []
    },
    {
      "cell_type": "code",
      "source": [
        "measured_sv.draw('latex')"
      ],
      "metadata": {
        "colab": {
          "base_uri": "https://localhost:8080/",
          "height": 60
        },
        "id": "XrQtEbupGOXr",
        "outputId": "f04ded0a-414d-4c7d-8b01-cc73daef1818"
      },
      "execution_count": 24,
      "outputs": [
        {
          "output_type": "execute_result",
          "data": {
            "text/plain": [
              "<IPython.core.display.Latex object>"
            ],
            "text/latex": "$$(-0.0446119835 + 0.0214839989 i) |00000\\rangle+(-0.0941275495 - 0.1954578706 i) |00001\\rangle+(-0.0941275495 - 0.1954578706 i) |00010\\rangle+(0.8563568844 - 0.4123997402 i) |00011\\rangle$$"
          },
          "metadata": {},
          "execution_count": 24
        }
      ]
    },
    {
      "cell_type": "markdown",
      "source": [
        "The amplitudes in this case are complex numbers due to the presence of a global phase in the quantum circuit. This global phase, however, does not affect the final outcome of the measurement. In the following cell, I have demonstrated the norm of these complex numbers to highlight this property."
      ],
      "metadata": {
        "id": "gcTdWrktlMvB"
      }
    },
    {
      "cell_type": "code",
      "source": [
        "for i in range(4):\n",
        "  print(f\"i={i}, and probability is   \", np.linalg.norm(measured_sv[i]))\n"
      ],
      "metadata": {
        "colab": {
          "base_uri": "https://localhost:8080/"
        },
        "id": "WtrSt_Ayi9gG",
        "outputId": "0356f592-fa3f-4e64-df88-85daf1f0989f"
      },
      "execution_count": 45,
      "outputs": [
        {
          "output_type": "stream",
          "name": "stdout",
          "text": [
            "i=0, and probability is    0.049515566048787985\n",
            "i=1, and probability is    0.21694186955877479\n",
            "i=2, and probability is    0.21694186955877312\n",
            "i=3, and probability is    0.9504844339512121\n"
          ]
        }
      ]
    },
    {
      "cell_type": "markdown",
      "source": [
        "## Simulation of $\\mathcal{H}$: Second Approach\n",
        "\n",
        "We can check the numbers that we achieved in our simulation with exact solution of this Hamiltonian\n",
        "\n",
        "\n",
        "Note that this Hamiltonian can be simulated in a much more efficient way: one can decompose $H$ in the Pauli basis:\n",
        "\n",
        "\\begin{eqnarray}\n",
        "    H = I \\otimes \\sigma_x + \\sigma_x \\otimes I,\n",
        "\\end{eqnarray}\n",
        "\n",
        "and simulate the dynamics by applying two single-qubit rotations to a register of two qubits:\n",
        "\n",
        "\\begin{eqnarray}\n",
        "    U_t = e^{-i(I \\otimes \\sigma_x + \\sigma_x \\otimes I)t} = R_x(2t) \\otimes R_x(2t).\n",
        "\\end{eqnarray}\n",
        "\n",
        "the output state for the $V_t$\n",
        "\n",
        "\\begin{eqnarray}\n",
        "    U_{\\Delta t}|00⟩ &=& R_x(2\\Delta t) \\otimes R_x(2\\Delta t) |00⟩ \\nonumber\\\\\n",
        "    &=& \\cos^2{\\Delta t} |00⟩ -2i\\sin{\\Delta t}\\cos{\\Delta t} (|01⟩+|10⟩) - \\sin^2{\\Delta t} |11⟩\n",
        "\\end{eqnarray}\n"
      ],
      "metadata": {
        "id": "mFEo2lcwZB-3"
      }
    },
    {
      "cell_type": "code",
      "source": [
        "circuit1 = QuantumCircuit(2)\n",
        "for i in range(m):\n",
        "  circuit1.rx(2*t,0)\n",
        "  circuit1.rx(2*t,1)\n",
        "\n",
        "#display(qplot(circuit1), array_to_latex(Operator(circuit1).data), Statevector(circuit1.reverse_bits()).draw('latex'))\n",
        "Statevector(circuit1.reverse_bits()).draw('latex')"
      ],
      "metadata": {
        "id": "YrhnSPe-ZCC2",
        "colab": {
          "base_uri": "https://localhost:8080/",
          "height": 38
        },
        "outputId": "103ef64f-4d51-461b-ffe1-9f46161df363"
      },
      "execution_count": 47,
      "outputs": [
        {
          "output_type": "execute_result",
          "data": {
            "text/plain": [
              "<IPython.core.display.Latex object>"
            ],
            "text/latex": "$$0.049515566 |00\\rangle+0.2169418696 i |01\\rangle+0.2169418696 i |10\\rangle-0.950484434 |11\\rangle$$"
          },
          "metadata": {},
          "execution_count": 47
        }
      ]
    },
    {
      "cell_type": "code",
      "source": [
        "array_to_latex(Operator(circuit1).data)"
      ],
      "metadata": {
        "id": "DT86zPjgZCR8",
        "colab": {
          "base_uri": "https://localhost:8080/",
          "height": 98
        },
        "outputId": "4d3877ae-1c50-43b0-ef3c-07ab22538da9"
      },
      "execution_count": 50,
      "outputs": [
        {
          "output_type": "execute_result",
          "data": {
            "text/plain": [
              "<IPython.core.display.Latex object>"
            ],
            "text/latex": "$$\n\n\\begin{bmatrix}\n0.049515566 & 0.2169418696 i & 0.2169418696 i & -0.950484434  \\\\\n 0.2169418696 i & 0.049515566 & -0.950484434 & 0.2169418696 i  \\\\\n 0.2169418696 i & -0.950484434 & 0.049515566 & 0.2169418696 i  \\\\\n -0.950484434 & 0.2169418696 i & 0.2169418696 i & 0.049515566  \\\\\n \\end{bmatrix}\n$$"
          },
          "metadata": {},
          "execution_count": 50
        }
      ]
    },
    {
      "cell_type": "markdown",
      "source": [
        "However we knew for this kind of Hamiltonian that two parts commute with each other we don't need to use Suzuki-Trotter Decomposition. The following code shows this fact"
      ],
      "metadata": {
        "id": "j1xVYyJVnsUb"
      }
    },
    {
      "cell_type": "code",
      "source": [
        "circuit2 = QuantumCircuit(2)\n",
        "circuit2.rx(2*T,0)\n",
        "circuit2.rx(2*T,1)\n",
        "\n",
        "Statevector(circuit2.reverse_bits()).draw('latex')"
      ],
      "metadata": {
        "id": "exSvovyCZCT8",
        "colab": {
          "base_uri": "https://localhost:8080/",
          "height": 38
        },
        "outputId": "bd3b6a04-ec1a-4c97-a0a2-51feaca0afef"
      },
      "execution_count": 49,
      "outputs": [
        {
          "output_type": "execute_result",
          "data": {
            "text/plain": [
              "<IPython.core.display.Latex object>"
            ],
            "text/latex": "$$0.049515566 |00\\rangle+0.2169418696 i |01\\rangle+0.2169418696 i |10\\rangle-0.950484434 |11\\rangle$$"
          },
          "metadata": {},
          "execution_count": 49
        }
      ]
    },
    {
      "cell_type": "code",
      "source": [],
      "metadata": {
        "id": "D5Z-TxXZZCX0"
      },
      "execution_count": null,
      "outputs": []
    },
    {
      "cell_type": "code",
      "source": [],
      "metadata": {
        "id": "oCTefWgvZCZm"
      },
      "execution_count": null,
      "outputs": []
    },
    {
      "cell_type": "code",
      "source": [],
      "metadata": {
        "id": "kKa9E-FLZCcj"
      },
      "execution_count": null,
      "outputs": []
    },
    {
      "cell_type": "code",
      "source": [],
      "metadata": {
        "id": "vwCcFC5jZCfv"
      },
      "execution_count": null,
      "outputs": []
    },
    {
      "cell_type": "code",
      "source": [],
      "metadata": {
        "id": "Abd2028qZCjq"
      },
      "execution_count": null,
      "outputs": []
    },
    {
      "cell_type": "code",
      "source": [],
      "metadata": {
        "id": "wZqJkQUAZClP"
      },
      "execution_count": null,
      "outputs": []
    },
    {
      "cell_type": "code",
      "source": [],
      "metadata": {
        "id": "2_iyqMjWZCpI"
      },
      "execution_count": null,
      "outputs": []
    }
  ]
}